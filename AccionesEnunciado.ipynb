{
 "cells": [
  {
   "cell_type": "code",
   "execution_count": 5,
   "metadata": {},
   "outputs": [],
   "source": [
    "import random\n",
    "\n",
    "empresas = ('Telefónica','Repsol','BBVA','Santander','Mapfre','Acciona','Endesa',\n",
    "               'Indra','Naturgy','Farmamar')\n",
    "anios = range(2011,2021)\n",
    "meses = ('ene','feb','mar','abr','may','jun','jul','ago','sep','oct','nov','dic')\n",
    "\n",
    "cotizacion = dict()\n",
    "\n",
    "# establecer cotizaciones aleatorias.\n",
    "for empresa in empresas:\n",
    "    aux_anios = []\n",
    "    for anio in anios:\n",
    "        aux_meses = []\n",
    "        for mes in meses:\n",
    "            aux_meses.append(random.random()*40)\n",
    "        aux_anios.append(aux_meses)       \n",
    "    cotizacion[empresa] = aux_anios\n",
    "\n",
    "#print(cotizacion)\n",
    "   "
   ]
  },
  {
   "cell_type": "code",
   "execution_count": 17,
   "metadata": {},
   "outputs": [],
   "source": [
    "def cotizaciones_empresa(empresa):\n",
    "    '''devuelve todas las cotizaciones existentes de la empresa\n",
    "    Params:\n",
    "        empresa (str): nombre de la empresa\n",
    "    Returns:\n",
    "        list(list(float)): cotizaciones de cada mes en cada año\n",
    "    '''  \n",
    "    return cotizacion[empresa]\n",
    "\n",
    "#print(cotizaciones_empresa('Telefónica'))\n",
    "\n",
    "def cotizaciones_anio(anio):\n",
    "    '''devuelve todas las cotizaciones existentes en el año\n",
    "    Params:\n",
    "        anio (int): número de año\n",
    "    Returns:\n",
    "        dict(key: (str), value: list(float)): listas de cotizaciones mensuales en cada empresa\n",
    "    '''  \n",
    "    cot_anio = {}\n",
    "\n",
    "    posicion = 0\n",
    "    for i in range(0,10):\n",
    "        if i == anio - 2011:\n",
    "            posicion = i\n",
    "\n",
    "    for empresa in cotizacion:\n",
    "        cot_anio[empresa] = cotizacion[empresa][posicion]\n",
    "\n",
    "    return cot_anio\n",
    "\n",
    "#print(cotizaciones_anio(2021)) \n",
    "\n",
    "def get_cotizacion_mes(empresa, anio, mes):\n",
    "    ''' Cotización de la empresa en el año y el mes\n",
    "    Parameters:\n",
    "        empresa: (str)\n",
    "        anio: (int)\n",
    "        mes: (str)\n",
    "    Returns:\n",
    "        cotizacion (float)\n",
    "    '''\n",
    "    anio = 0\n",
    "    for i in range(0,10):\n",
    "        if i == anio - 2011:\n",
    "            anio = i\n",
    "    \n",
    "    mes = 0\n",
    "    for e in range(len(meses)):\n",
    "        if meses[e] == mes:\n",
    "            mes = e\n",
    "\n",
    "    cot = cotizacion[empresa][anio][mes]\n",
    "\n",
    "    return cot\n",
    "\n",
    "#print(get_cotizacion_mes('Telefónica',2012,'feb'))\n",
    "\n",
    "def set_cotizacion_mes(empresa, anio, mes, valor):\n",
    "    ''' Asigna la cotización de la empresa en el año y el mes\n",
    "    Parameters:\n",
    "        empresa: (str)\n",
    "        anio: (int)\n",
    "        mes: (str)\n",
    "        valor (float): valor cotizado ese mes\n",
    "    '''\n",
    "    anio = 0\n",
    "    for i in range(0,10):\n",
    "        if i == anio - 2011:\n",
    "            anio = i\n",
    "    \n",
    "    mes = 0\n",
    "    for e in range(len(meses)):\n",
    "        if meses[e] == mes:\n",
    "            mes = e\n",
    "\n",
    "    cotizacion[empresa][anio][mes] = valor"
   ]
  },
  {
   "cell_type": "code",
   "execution_count": 18,
   "metadata": {},
   "outputs": [
    {
     "name": "stdout",
     "output_type": "stream",
     "text": [
      "[[13.95527557737337, 27.408705561428583, 8.622489139049879, 12.024350150521844, 33.05932739085658, 34.45563422331354, 27.76625954192998, 39.99508736200285, 0.23494283585599796, 13.228947805086136, 21.095011732925656, 6.980643537720863], [14.704037942712581, 17.97636644306696, 26.38818081952005, 39.256186159116794, 39.40449942946495, 0.30047148489577236, 13.13830760537751, 7.061488181510689, 29.401076329036314, 20.5851498030817, 39.81958414227123, 38.7410685617144], [10.273009482393348, 30.92983505897379, 36.1715137118724, 23.520712775407855, 22.816447425508905, 37.85240015793631, 15.07154306549284, 16.481025398285, 32.39824975460847, 10.58768995112672, 33.60130338021276, 9.590613737995684], [36.37994625304177, 7.814488458939297, 16.52888915558094, 9.179047764347267, 29.724630706485087, 19.013747517394023, 19.014361622726472, 31.964271114524372, 29.18203627489881, 19.57399412387859, 8.568022291948129, 25.98045818068583], [3.189519264456915, 12.70224716292014, 19.492687600047027, 25.34590519339566, 9.18803643125052, 20.797404698080815, 18.95288536187742, 36.678445713488145, 7.805796434920063, 3.4674444745128152, 24.518849142577768, 36.297375447126136], [37.27888608629155, 32.23642890206187, 14.13302966113437, 21.784425315624194, 28.409323596651284, 38.797303754733505, 10.982626012476878, 37.41020181491379, 28.87959368633854, 37.859925774141715, 29.883687181209815, 3.6280244514413296], [27.662647394469072, 5.784897793793569, 24.610615812978644, 31.06832260813246, 16.106048528518983, 15.02204051439457, 36.933406743144104, 33.85361415923161, 24.945747041005927, 10.918265924387294, 16.515307795045086, 4.218254552076588], [8.6550161992409, 35.28702461089418, 14.503121315126872, 8.446301763696482, 3.381223663399555, 0.8418591560226663, 19.20695536478957, 10.419408730301472, 23.295147386198355, 34.54200127632167, 15.075362350179805, 14.688317000869686], [9.418499245689503, 37.33376019229989, 29.505021957364583, 17.652480082220375, 10.349110519563816, 10.302810813142983, 22.87665604335043, 13.99930636157578, 35.460432780365096, 11.99080651910975, 27.061463095488687, 2.7092738372469194], [33.7787622559214, 18.70377687008667, 36.248477472622355, 14.191683700331609, 26.764355917562877, 16.750632832484893, 0.07896318612134579, 33.92323049079994, 23.810342943528656, 26.44058731147485, 16.256030627048514, 24.95053283037937]]\n",
      "\n",
      "{'Telefónica': [3.5039180849612928, 35.92375549134096, 27.31429106949763, 0.2174219396706123, 12.940413829610025, 2.014619366866337, 4.6654560942999534, 8.933446962223211, 39.30702066675282, 32.73419497612867, 16.690853505319865, 21.56793367033961], 'Repsol': [19.43794585698161, 25.209643714978252, 23.440558750253647, 11.278143595396886, 3.7820960301816653, 3.910957576027503, 35.74477503788606, 35.95027577905086, 22.342652148591114, 5.526953539026667, 26.90872862720258, 1.6071148870114937], 'BBVA': [16.376050979202972, 5.531090760961006, 13.667307588092608, 7.17612146112891, 2.5911807931999764, 14.805953487560494, 23.395403224493553, 21.762037489061758, 15.222865182714944, 14.73796360243588, 38.34209625021005, 38.16212959888586], 'Santander': [14.704037942712581, 17.97636644306696, 26.38818081952005, 39.256186159116794, 39.40449942946495, 0.30047148489577236, 13.13830760537751, 7.061488181510689, 29.401076329036314, 20.5851498030817, 39.81958414227123, 38.7410685617144], 'Mapfre': [8.760754639369042, 27.786566427027026, 29.457401028076152, 29.252784940142448, 15.834545361779071, 22.183008487270136, 14.909282356012415, 23.626884898655206, 36.371043200212576, 3.3645113062500442, 2.2944690786111988, 16.96766017674742], 'Acciona': [25.190659800370856, 22.48874006333512, 32.42682064522077, 21.005514498452435, 13.141054872609637, 18.297568891522573, 38.87673668338735, 4.725883547822121, 27.41258021239738, 23.74835573653449, 38.64885400736029, 18.252650400871694], 'Endesa': [6.760601201356877, 35.66240033399442, 26.027017107455986, 1.9237226872678859, 13.552641648225276, 14.055355844084252, 38.27202027435848, 30.40265990214259, 22.363646799221584, 28.38224390540162, 24.99711646386742, 13.628068082393803], 'Indra': [26.989029664591445, 31.122543961428132, 26.80758036741405, 23.266319835170957, 14.537191462614558, 37.049761225984184, 26.03263781145458, 4.379527253551316, 0.3342754342095322, 31.07145678442474, 34.2218610972539, 7.016043028147014], 'Naturgy': [39.83779646959682, 36.934773355578244, 37.79949940849545, 25.770713896081425, 34.46608091593945, 9.034493078396487, 11.928039050661013, 12.323629272766844, 27.9696354527422, 27.09166027303496, 38.60720654470694, 12.579325942560331], 'Farmamar': [28.049352189258904, 26.559028696441583, 18.49928971286126, 5.658195611255139, 6.3785289280145685, 27.314356364865642, 18.884423651688735, 27.119370104555035, 18.835842061174958, 33.74368353353348, 12.082606427000133, 25.227736410672584]}\n",
      "\n",
      "9.435897610217037\n",
      "30.0\n"
     ]
    }
   ],
   "source": [
    "print(cotizaciones_empresa('Santander'))\n",
    "print()\n",
    "print(cotizaciones_anio(2012))\n",
    "print()\n",
    "print(get_cotizacion_mes('Telefónica', 2012, 'feb'))\n",
    "set_cotizacion_mes('Telefónica', 2012, 'feb', 30.0)\n",
    "print(get_cotizacion_mes('Telefónica', 2012, 'feb'))"
   ]
  },
  {
   "cell_type": "code",
   "execution_count": 36,
   "metadata": {},
   "outputs": [
    {
     "name": "stdout",
     "output_type": "stream",
     "text": [
      "20.839224931170897\n"
     ]
    }
   ],
   "source": [
    "def __media(matriz):\n",
    "    ''' Devuelve la media numérica de una matriz bidimensional de floats\n",
    "    Parameters:\n",
    "        matriz list(list)): matriz bidimensional de datos\n",
    "    Returns:\n",
    "        (float)'''\n",
    "    longitud = (len(empresas)) * 10 * 12\n",
    "    #print(longitud)\n",
    "    suma = 0\n",
    "    for empresa in cotizacion:\n",
    "        for lista in cotizacion[empresa]:\n",
    "            for l in lista:\n",
    "        \n",
    "                suma += l\n",
    "               \n",
    "\n",
    "    media = suma / longitud\n",
    "\n",
    "    return media\n",
    "\n",
    "#print(__media(cotizacion))\n",
    "\n",
    "def media_empresa(empresa):\n",
    "    ''' Devuelve la media numérica de las cotizacines de una empresa\n",
    "    Parameters:\n",
    "        empresa (str): nombre de la empresa\n",
    "    Returns:\n",
    "        (float)'''   \n",
    "    longitud = 120\n",
    "\n",
    "    suma = 0\n",
    "    for lista in cotizacion[empresa]:\n",
    "        for l in lista:\n",
    "            suma += l\n",
    "    \n",
    "    media = suma / longitud\n",
    "\n",
    "    return media\n",
    "\n",
    "#print(media_empresa('Endesa'))\n",
    "\n",
    "def media_anio(anio):\n",
    "    ''' Devuelve la media numérica de las cotizacines en un año\n",
    "    Parameters:\n",
    "        anio (int): número del año\n",
    "    Returns:\n",
    "        (float)'''    \n",
    "    a = 0\n",
    "    for i in range(0,10):\n",
    "        if i == anio - 2011:\n",
    "            a = i\n",
    "    \n",
    "    suma = 0\n",
    "    for empresa in cotizacion:\n",
    "        for e in cotizacion[empresa][a]:\n",
    "            suma += e\n",
    "\n",
    "    media = suma / (len(empresas) * 12)\n",
    "\n",
    "    return media\n",
    "\n",
    "print(media_anio(2013))"
   ]
  },
  {
   "cell_type": "code",
   "execution_count": null,
   "metadata": {},
   "outputs": [],
   "source": [
    "print(media_empresa('Naturgy'))\n",
    "print(media_anio(2011))"
   ]
  },
  {
   "cell_type": "code",
   "execution_count": null,
   "metadata": {},
   "outputs": [],
   "source": [
    "def filtrado(valor, positivo = True):\n",
    "    ''' Valores por encima o por debajo de un umbral\n",
    "    Parameters:\n",
    "        valor (float): umbral\n",
    "        positivo (bool): True si el umbral es cota inferior; False si el umbral es cota superior\n",
    "    Returns:\n",
    "        dict(key (str): empresa(), value: (str,float) pares <mes,cotizacion>)'''\n"
   ]
  },
  {
   "cell_type": "code",
   "execution_count": null,
   "metadata": {},
   "outputs": [],
   "source": [
    "print(filtrado(39.0))\n",
    "print()\n",
    "print(filtrado(2.0, False))"
   ]
  }
 ],
 "metadata": {
  "kernelspec": {
   "display_name": "Python 3.9.13 64-bit",
   "language": "python",
   "name": "python3"
  },
  "language_info": {
   "codemirror_mode": {
    "name": "ipython",
    "version": 3
   },
   "file_extension": ".py",
   "mimetype": "text/x-python",
   "name": "python",
   "nbconvert_exporter": "python",
   "pygments_lexer": "ipython3",
   "version": "3.9.13"
  },
  "vscode": {
   "interpreter": {
    "hash": "07719c79fb9794882eb37fe40192f87268962ad97e8b0c74ddedf645f3cacd52"
   }
  }
 },
 "nbformat": 4,
 "nbformat_minor": 2
}
