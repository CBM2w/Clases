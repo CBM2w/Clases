{
 "cells": [
  {
   "cell_type": "code",
   "execution_count": 1,
   "id": "5605fa47",
   "metadata": {},
   "outputs": [
    {
     "name": "stdout",
     "output_type": "stream",
     "text": [
      "[True, True, True, True, True, True, True, True, True, True]\n",
      "[True, True, True, True, True, True, True, True, True, True]\n",
      "[True, True, True, True, True, True, True, True, True, True]\n",
      "[True, True, True, True, True, True, True, True, True, True]\n",
      "[True, True, True, True, True, True, True, True, True, True]\n",
      "[True, True, True, True, True, True, True, True, True, True]\n",
      "[True, True, True, True, True, True, True, True, True, True]\n",
      "[True, True, True, True, True, True, True, True, True, True]\n",
      "[True, True, True, True, True, True, True, True, True, True]\n",
      "[True, True, True, True, True, True, True, True, True, True]\n",
      "[True, True, True, True, True, True, True, True, True, True]\n",
      "[True, True, True, True, True, True, True, True, True, True]\n",
      "\n",
      "[0, 0, 2, 2, 2, 2, 2, 2, 0, 0]\n",
      "[0, 1, 2, 2, 2, 2, 2, 2, 1, 0]\n",
      "[1, 2, 2, 2, 2, 2, 2, 2, 2, 1]\n",
      "[2, 2, 2, 2, 2, 2, 2, 2, 2, 2]\n",
      "[1, 1, 1, 1, 1, 1, 1, 1, 1, 1]\n",
      "[1, 1, 1, 1, 1, 1, 1, 1, 1, 1]\n",
      "[1, 1, 1, 1, 1, 1, 1, 1, 1, 1]\n",
      "[1, 1, 1, 1, 1, 1, 1, 1, 1, 1]\n",
      "[0, 0, 0, 0, 0, 0, 0, 0, 0, 0]\n",
      "[0, 0, 0, 0, 0, 0, 0, 0, 0, 0]\n",
      "[0, 0, 0, 0, 0, 0, 0, 0, 0, 0]\n",
      "[0, 0, 0, 0, 0, 0, 0, 0, 0, 0]\n",
      "\n"
     ]
    }
   ],
   "source": [
    "NUM_COLUMNAS = 10; NUM_FILAS = 12; LIBRE = True; OCUPADO = not LIBRE\n",
    "CARO = 2; NORMAL = 1; BARATO = 0\n",
    "precio_butaca = [30, 50, 90]\n",
    "\n",
    "sala_ocupacion = [[LIBRE for columna in range(NUM_COLUMNAS)] for fila in range(NUM_FILAS)]\n",
    "sala_tipos_0_3 = [[CARO for columna in range(NUM_COLUMNAS)] for fila in range(4)]\n",
    "sala_tipos_4_7 = [[NORMAL for columna in range(NUM_COLUMNAS)] for fila in range(4,8)]\n",
    "sala_tipos_8_NUM_FILAS = [[BARATO for columna in range(NUM_COLUMNAS)] for fila in range(4,8)]\n",
    "sala_tipos = sala_tipos_0_3\n",
    "sala_tipos.extend(sala_tipos_4_7)\n",
    "sala_tipos.extend(sala_tipos_8_NUM_FILAS)\n",
    "sala_tipos[0][0] = BARATO; sala_tipos[0][1] = BARATO \n",
    "sala_tipos[0][NUM_COLUMNAS-1] = BARATO; sala_tipos[0][NUM_COLUMNAS-2] = BARATO\n",
    "sala_tipos[1][0] = BARATO; sala_tipos[1][NUM_COLUMNAS-1] = BARATO\n",
    "sala_tipos[1][1] = NORMAL; sala_tipos[1][NUM_COLUMNAS-2] = NORMAL\n",
    "sala_tipos[2][0] = NORMAL; sala_tipos[2][NUM_COLUMNAS-1] = NORMAL \n",
    "\n",
    "def imprime(sala):\n",
    "    for e in sala:\n",
    "        print(e)\n",
    "    print()\n",
    "    return\n",
    "\n",
    "imprime(sala_ocupacion)\n",
    "imprime(sala_tipos)"
   ]
  },
  {
   "cell_type": "code",
   "execution_count": 2,
   "id": "cbffc38e",
   "metadata": {},
   "outputs": [
    {
     "name": "stdout",
     "output_type": "stream",
     "text": [
      "30 50 90 90 90 90 90 90 50 30 \n"
     ]
    }
   ],
   "source": [
    "def libre(fila, columna):  # la primera fila es la 0, la primera columna es la 0\n",
    "    return sala_ocupacion[fila][columna]\n",
    "\n",
    "def precio(fila, columna):\n",
    "    tipo = sala_tipos[fila][columna]  # 0 -> BARATO, 1 -> NORMAL, 2 -> CARO\n",
    "    return precio_butaca[tipo]\n",
    "\n",
    "for columna in range(NUM_COLUMNAS):\n",
    "    print(precio(1,columna), end =' ')\n",
    "print()"
   ]
  },
  {
   "cell_type": "code",
   "execution_count": 3,
   "id": "bd45a716",
   "metadata": {},
   "outputs": [
    {
     "name": "stdout",
     "output_type": "stream",
     "text": [
      "[True, True, True, True, True, True, True, True, True, True]\n",
      "[True, True, True, True, True, True, False, False, True, True]\n",
      "[True, True, True, True, True, True, True, True, True, True]\n",
      "[True, True, True, True, True, True, True, True, True, True]\n",
      "[True, True, True, True, True, True, True, True, True, True]\n",
      "[True, True, True, True, True, True, True, True, True, True]\n",
      "[True, True, True, True, True, True, True, True, True, True]\n",
      "[True, True, True, True, True, True, True, True, True, True]\n",
      "[True, True, True, True, True, True, True, True, True, True]\n",
      "[True, True, True, True, True, True, True, True, True, True]\n",
      "[True, True, True, True, True, True, True, True, True, True]\n",
      "[True, True, True, True, True, True, True, True, True, True]\n",
      "\n"
     ]
    }
   ],
   "source": [
    "def libera(fila, columna):\n",
    "    sala_ocupacion[fila][columna] = LIBRE\n",
    "    return\n",
    "\n",
    "def ocupa(fila, columna):\n",
    "    sala_ocupacion[fila][columna] = OCUPADO\n",
    "    return\n",
    "\n",
    "for columna in range(5,8):  # 5, 6, 7\n",
    "    ocupa(1,columna)\n",
    "libera(1, 5)\n",
    "imprime(sala_ocupacion)"
   ]
  },
  {
   "cell_type": "code",
   "execution_count": 4,
   "id": "41ec5e4f",
   "metadata": {},
   "outputs": [
    {
     "name": "stdout",
     "output_type": "stream",
     "text": [
      "118\n",
      "118\n",
      "False False\n"
     ]
    }
   ],
   "source": [
    "def num_butacas_libres():\n",
    "    total = 0\n",
    "    for fila in range(NUM_FILAS):\n",
    "        for columna in range (NUM_COLUMNAS):\n",
    "            if libre(fila, columna):\n",
    "                total += 1\n",
    "    return total\n",
    "\n",
    "print(num_butacas_libres())\n",
    "\n",
    "def num_butacas_libres_2():\n",
    "    return sum([sum(fila) for fila in sala_ocupacion])\n",
    "\n",
    "print(num_butacas_libres_2())\n",
    "\n",
    "def lleno():\n",
    "    return num_butacas_libres() == 0\n",
    "\n",
    "def vacio():\n",
    "    return num_butacas_libres() == NUM_FILAS * NUM_COLUMNAS\n",
    "\n",
    "print(lleno(), vacio())"
   ]
  },
  {
   "cell_type": "code",
   "execution_count": 5,
   "id": "ce7f49e6",
   "metadata": {},
   "outputs": [
    {
     "name": "stdout",
     "output_type": "stream",
     "text": [
      "[0, 0]\n",
      "[1, 1]\n",
      "[0, 2]\n"
     ]
    }
   ],
   "source": [
    "def primer_libre(tipo):\n",
    "    for fila in range(NUM_FILAS):\n",
    "        for columna in range (NUM_COLUMNAS):\n",
    "            if sala_tipos[fila][columna] == tipo and libre(fila, columna):\n",
    "                return [fila, columna]\n",
    "    return [-1,-1]\n",
    "\n",
    "for tipo in range(3): \n",
    "    print(primer_libre(tipo))\n"
   ]
  },
  {
   "cell_type": "code",
   "execution_count": 6,
   "id": "e5205c8b",
   "metadata": {},
   "outputs": [
    {
     "name": "stdout",
     "output_type": "stream",
     "text": [
      "[[0, 0], [0, 1]]\n",
      "[[4, 0], [4, 1]]\n",
      "[[0, 2], [0, 3]]\n",
      "[True, True, False, False, True, True, True, True, True, True]\n",
      "[True, True, True, True, True, True, False, False, True, True]\n",
      "[True, True, True, True, True, True, True, True, True, True]\n",
      "[True, True, True, True, True, True, True, True, True, True]\n",
      "[True, True, True, True, True, True, True, True, True, True]\n",
      "[True, True, True, True, True, True, True, True, True, True]\n",
      "[True, True, True, True, True, True, True, True, True, True]\n",
      "[True, True, True, True, True, True, True, True, True, True]\n",
      "[True, True, True, True, True, True, True, True, True, True]\n",
      "[True, True, True, True, True, True, True, True, True, True]\n",
      "[True, True, True, True, True, True, True, True, True, True]\n",
      "[True, True, True, True, True, True, True, True, True, True]\n",
      "\n"
     ]
    }
   ],
   "source": [
    "def primer_libre_pareja(tipo):\n",
    "    for fila in range(NUM_FILAS):\n",
    "        for columna in range (NUM_COLUMNAS-1):\n",
    "            if sala_tipos[fila][columna] == tipo and sala_tipos[fila][columna+1] == tipo and \\\n",
    "               libre(fila, columna) and libre(fila, columna+1):\n",
    "                return [[fila, columna], [fila, columna+1]]\n",
    "    return [-1,-1]\n",
    "\n",
    "for tipo in range(3): \n",
    "    print(primer_libre_pareja(tipo))\n",
    "\n",
    "def ocupa_pareja(asientos):\n",
    "    asiento_1 = asientos[0]\n",
    "    asiento_2 = asientos[1]\n",
    "    ocupa(asiento_1[0], asiento_1[1])\n",
    "    ocupa(asiento_2[0], asiento_2[1])\n",
    "    return\n",
    "\n",
    "# compramos los asientos\n",
    "ocupa_pareja(primer_libre_pareja(CARO))\n",
    "\n",
    "imprime(sala_ocupacion)"
   ]
  },
  {
   "cell_type": "code",
   "execution_count": 7,
   "id": "5a69a3d9",
   "metadata": {},
   "outputs": [
    {
     "name": "stdout",
     "output_type": "stream",
     "text": [
      "360\n"
     ]
    }
   ],
   "source": [
    "def recaudacion():\n",
    "    total = 0\n",
    "    for fila in range(NUM_FILAS):\n",
    "        for columna in range (NUM_COLUMNAS):\n",
    "            if (not libre(fila, columna)):\n",
    "                tipo = sala_tipos[fila][columna]\n",
    "                total += precio_butaca[tipo]\n",
    "    return total    \n",
    "\n",
    "print(recaudacion())"
   ]
  },
  {
   "cell_type": "code",
   "execution_count": 8,
   "id": "fdc09899",
   "metadata": {},
   "outputs": [],
   "source": [
    "import math\n",
    "from PIL import Image, ImageDraw\n",
    "  \n",
    "image = Image.new(\"RGB\", (1000, 800), color =\"white\")\n",
    "img = ImageDraw.Draw(image)\n",
    "\n",
    "colores = ['green', 'yellow', 'red']\n",
    "\n",
    "def get_color(fila, columna):\n",
    "    if not libre(fila,columna):\n",
    "        color = 'gray'\n",
    "    else:\n",
    "        tipo = sala_tipos[fila][columna]\n",
    "        color = colores[tipo] \n",
    "    return color\n",
    "\n",
    "def dibuja_sala():\n",
    "    for fila in range(NUM_FILAS):\n",
    "        for columna in range (NUM_COLUMNAS):\n",
    "            color = get_color(fila, columna)            \n",
    "            img.rectangle((40+40*columna,40+40*fila,40+40*columna+25,40+40*fila+25), fill=color, outline=\"black\")\n",
    "    image.show()\n",
    "    return\n",
    "\n",
    "dibuja_sala()"
   ]
  },
  {
   "cell_type": "code",
   "execution_count": 9,
   "id": "2d5f16ca",
   "metadata": {},
   "outputs": [
    {
     "name": "stdout",
     "output_type": "stream",
     "text": [
      "2450\n"
     ]
    }
   ],
   "source": [
    "import random\n",
    "\n",
    "for i in range(50):\n",
    "    fila = random.randrange(NUM_FILAS)\n",
    "    columna = random.randrange(NUM_COLUMNAS)\n",
    "    ocupa(fila, columna)\n",
    "    \n",
    "dibuja_sala() \n",
    "print(recaudacion())"
   ]
  },
  {
   "cell_type": "code",
   "execution_count": null,
   "id": "91c7c06d",
   "metadata": {},
   "outputs": [],
   "source": []
  }
 ],
 "metadata": {
  "kernelspec": {
   "display_name": "Python 3.11.0 64-bit",
   "language": "python",
   "name": "python3"
  },
  "language_info": {
   "codemirror_mode": {
    "name": "ipython",
    "version": 3
   },
   "file_extension": ".py",
   "mimetype": "text/x-python",
   "name": "python",
   "nbconvert_exporter": "python",
   "pygments_lexer": "ipython3",
   "version": "3.11.0"
  },
  "vscode": {
   "interpreter": {
    "hash": "0efe115bbb47f8a155935e72ffe7ab9f9a1fa511648b98cc82cf0653c8988f58"
   }
  }
 },
 "nbformat": 4,
 "nbformat_minor": 5
}
